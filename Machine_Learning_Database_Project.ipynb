{
  "nbformat": 4,
  "nbformat_minor": 0,
  "metadata": {
    "colab": {
      "name": "Machine Learning Database Project",
      "provenance": [],
      "collapsed_sections": [],
      "include_colab_link": true
    },
    "kernelspec": {
      "name": "python3",
      "display_name": "Python 3"
    },
    "language_info": {
      "name": "python"
    }
  },
  "cells": [
    {
      "cell_type": "markdown",
      "metadata": {
        "id": "view-in-github",
        "colab_type": "text"
      },
      "source": [
        "<a href=\"https://colab.research.google.com/github/elyghthao/Machine-Learning-Databases-Project/blob/main/Machine_Learning_Database_Project.ipynb\" target=\"_parent\"><img src=\"https://colab.research.google.com/assets/colab-badge.svg\" alt=\"Open In Colab\"/></a>"
      ]
    },
    {
      "cell_type": "code",
      "metadata": {
        "id": "hhj9Y2J6SBU7"
      },
      "source": [
        "import pandas as pd\n",
        "import pylab\n",
        "import numpy as np\n",
        "import sklearn\n",
        "from sklearn import linear_model\n",
        "import sklearn.preprocessing as preprocessing\n",
        "import sklearn.metrics as metrics\n",
        "from sklearn.model_selection import train_test_split\n",
        "import matplotlib.pyplot as plt\n",
        "from statsmodels.stats import proportion"
      ],
      "execution_count": null,
      "outputs": []
    },
    {
      "cell_type": "markdown",
      "metadata": {
        "id": "boRLxFKsSmOm"
      },
      "source": [
        "# Load the Dataset"
      ]
    },
    {
      "cell_type": "markdown",
      "metadata": {
        "id": "uJJIQtF7Xrh2"
      },
      "source": [
        "Data set can be found from this link: https://archive.ics.uci.edu/ml/datasets/student+performance."
      ]
    },
    {
      "cell_type": "code",
      "metadata": {
        "id": "6N15C1VTSh0_"
      },
      "source": [
        "!wget https://archive.ics.uci.edu/ml/machine-learning-databases/00320/student.zip"
      ],
      "execution_count": null,
      "outputs": []
    },
    {
      "cell_type": "code",
      "metadata": {
        "id": "kCmWlEnIT_J1"
      },
      "source": [
        "!rm ./*.csv\n",
        "!rm ./*.R\n",
        "!rm student.txt\n",
        "!unzip student.zip"
      ],
      "execution_count": null,
      "outputs": []
    },
    {
      "cell_type": "code",
      "metadata": {
        "id": "D0WAPlVFUN0J"
      },
      "source": [
        "features = [\"school\", \"sex\", \"age\", \"address\", \"famsize\", \"Pstatus\",\n",
        "        \"Medu\", \"Fedu\", \"Mjob\", \"Fjob\", \"reason\", \"guardian\",\n",
        "        \"traveltime\", \"studytime\", \"failures\", \"schoolsup\", \"famsup\", \"paid\", \n",
        "        \"activities\", \"nursery\", \"higher\", \"internet\", \"romantic\", \"famrel\", \n",
        "        \"freetime\", \"goout\", \"Dalc\", \"Walc\", \"health\", \"absences\", \"G1\", \"G2\", \"G3\"] "
      ],
      "execution_count": null,
      "outputs": []
    },
    {
      "cell_type": "code",
      "metadata": {
        "id": "bq2sw71TVRWK"
      },
      "source": [
        "df = pd.read_csv('student-por.csv', sep=';', skiprows=1, engine='python',names=features, na_values=\"?\",error_bad_lines=False)"
      ],
      "execution_count": null,
      "outputs": []
    },
    {
      "cell_type": "code",
      "metadata": {
        "colab": {
          "base_uri": "https://localhost:8080/",
          "height": 439
        },
        "id": "CfXapLFnVyrL",
        "outputId": "9ef1cd99-62f0-434e-8f31-0f01f9808391"
      },
      "source": [
        "df"
      ],
      "execution_count": null,
      "outputs": [
        {
          "output_type": "execute_result",
          "data": {
            "text/html": [
              "<div>\n",
              "<style scoped>\n",
              "    .dataframe tbody tr th:only-of-type {\n",
              "        vertical-align: middle;\n",
              "    }\n",
              "\n",
              "    .dataframe tbody tr th {\n",
              "        vertical-align: top;\n",
              "    }\n",
              "\n",
              "    .dataframe thead th {\n",
              "        text-align: right;\n",
              "    }\n",
              "</style>\n",
              "<table border=\"1\" class=\"dataframe\">\n",
              "  <thead>\n",
              "    <tr style=\"text-align: right;\">\n",
              "      <th></th>\n",
              "      <th>school</th>\n",
              "      <th>sex</th>\n",
              "      <th>age</th>\n",
              "      <th>address</th>\n",
              "      <th>famsize</th>\n",
              "      <th>Pstatus</th>\n",
              "      <th>Medu</th>\n",
              "      <th>Fedu</th>\n",
              "      <th>Mjob</th>\n",
              "      <th>Fjob</th>\n",
              "      <th>reason</th>\n",
              "      <th>guardian</th>\n",
              "      <th>traveltime</th>\n",
              "      <th>studytime</th>\n",
              "      <th>failures</th>\n",
              "      <th>schoolsup</th>\n",
              "      <th>famsup</th>\n",
              "      <th>paid</th>\n",
              "      <th>activities</th>\n",
              "      <th>nursery</th>\n",
              "      <th>higher</th>\n",
              "      <th>internet</th>\n",
              "      <th>romantic</th>\n",
              "      <th>famrel</th>\n",
              "      <th>freetime</th>\n",
              "      <th>goout</th>\n",
              "      <th>Dalc</th>\n",
              "      <th>Walc</th>\n",
              "      <th>health</th>\n",
              "      <th>absences</th>\n",
              "      <th>G1</th>\n",
              "      <th>G2</th>\n",
              "      <th>G3</th>\n",
              "    </tr>\n",
              "  </thead>\n",
              "  <tbody>\n",
              "    <tr>\n",
              "      <th>0</th>\n",
              "      <td>GP</td>\n",
              "      <td>F</td>\n",
              "      <td>18</td>\n",
              "      <td>U</td>\n",
              "      <td>GT3</td>\n",
              "      <td>A</td>\n",
              "      <td>4</td>\n",
              "      <td>4</td>\n",
              "      <td>at_home</td>\n",
              "      <td>teacher</td>\n",
              "      <td>course</td>\n",
              "      <td>mother</td>\n",
              "      <td>2</td>\n",
              "      <td>2</td>\n",
              "      <td>0</td>\n",
              "      <td>yes</td>\n",
              "      <td>no</td>\n",
              "      <td>no</td>\n",
              "      <td>no</td>\n",
              "      <td>yes</td>\n",
              "      <td>yes</td>\n",
              "      <td>no</td>\n",
              "      <td>no</td>\n",
              "      <td>4</td>\n",
              "      <td>3</td>\n",
              "      <td>4</td>\n",
              "      <td>1</td>\n",
              "      <td>1</td>\n",
              "      <td>3</td>\n",
              "      <td>4</td>\n",
              "      <td>0</td>\n",
              "      <td>11</td>\n",
              "      <td>11</td>\n",
              "    </tr>\n",
              "    <tr>\n",
              "      <th>1</th>\n",
              "      <td>GP</td>\n",
              "      <td>F</td>\n",
              "      <td>17</td>\n",
              "      <td>U</td>\n",
              "      <td>GT3</td>\n",
              "      <td>T</td>\n",
              "      <td>1</td>\n",
              "      <td>1</td>\n",
              "      <td>at_home</td>\n",
              "      <td>other</td>\n",
              "      <td>course</td>\n",
              "      <td>father</td>\n",
              "      <td>1</td>\n",
              "      <td>2</td>\n",
              "      <td>0</td>\n",
              "      <td>no</td>\n",
              "      <td>yes</td>\n",
              "      <td>no</td>\n",
              "      <td>no</td>\n",
              "      <td>no</td>\n",
              "      <td>yes</td>\n",
              "      <td>yes</td>\n",
              "      <td>no</td>\n",
              "      <td>5</td>\n",
              "      <td>3</td>\n",
              "      <td>3</td>\n",
              "      <td>1</td>\n",
              "      <td>1</td>\n",
              "      <td>3</td>\n",
              "      <td>2</td>\n",
              "      <td>9</td>\n",
              "      <td>11</td>\n",
              "      <td>11</td>\n",
              "    </tr>\n",
              "    <tr>\n",
              "      <th>2</th>\n",
              "      <td>GP</td>\n",
              "      <td>F</td>\n",
              "      <td>15</td>\n",
              "      <td>U</td>\n",
              "      <td>LE3</td>\n",
              "      <td>T</td>\n",
              "      <td>1</td>\n",
              "      <td>1</td>\n",
              "      <td>at_home</td>\n",
              "      <td>other</td>\n",
              "      <td>other</td>\n",
              "      <td>mother</td>\n",
              "      <td>1</td>\n",
              "      <td>2</td>\n",
              "      <td>0</td>\n",
              "      <td>yes</td>\n",
              "      <td>no</td>\n",
              "      <td>no</td>\n",
              "      <td>no</td>\n",
              "      <td>yes</td>\n",
              "      <td>yes</td>\n",
              "      <td>yes</td>\n",
              "      <td>no</td>\n",
              "      <td>4</td>\n",
              "      <td>3</td>\n",
              "      <td>2</td>\n",
              "      <td>2</td>\n",
              "      <td>3</td>\n",
              "      <td>3</td>\n",
              "      <td>6</td>\n",
              "      <td>12</td>\n",
              "      <td>13</td>\n",
              "      <td>12</td>\n",
              "    </tr>\n",
              "    <tr>\n",
              "      <th>3</th>\n",
              "      <td>GP</td>\n",
              "      <td>F</td>\n",
              "      <td>15</td>\n",
              "      <td>U</td>\n",
              "      <td>GT3</td>\n",
              "      <td>T</td>\n",
              "      <td>4</td>\n",
              "      <td>2</td>\n",
              "      <td>health</td>\n",
              "      <td>services</td>\n",
              "      <td>home</td>\n",
              "      <td>mother</td>\n",
              "      <td>1</td>\n",
              "      <td>3</td>\n",
              "      <td>0</td>\n",
              "      <td>no</td>\n",
              "      <td>yes</td>\n",
              "      <td>no</td>\n",
              "      <td>yes</td>\n",
              "      <td>yes</td>\n",
              "      <td>yes</td>\n",
              "      <td>yes</td>\n",
              "      <td>yes</td>\n",
              "      <td>3</td>\n",
              "      <td>2</td>\n",
              "      <td>2</td>\n",
              "      <td>1</td>\n",
              "      <td>1</td>\n",
              "      <td>5</td>\n",
              "      <td>0</td>\n",
              "      <td>14</td>\n",
              "      <td>14</td>\n",
              "      <td>14</td>\n",
              "    </tr>\n",
              "    <tr>\n",
              "      <th>4</th>\n",
              "      <td>GP</td>\n",
              "      <td>F</td>\n",
              "      <td>16</td>\n",
              "      <td>U</td>\n",
              "      <td>GT3</td>\n",
              "      <td>T</td>\n",
              "      <td>3</td>\n",
              "      <td>3</td>\n",
              "      <td>other</td>\n",
              "      <td>other</td>\n",
              "      <td>home</td>\n",
              "      <td>father</td>\n",
              "      <td>1</td>\n",
              "      <td>2</td>\n",
              "      <td>0</td>\n",
              "      <td>no</td>\n",
              "      <td>yes</td>\n",
              "      <td>no</td>\n",
              "      <td>no</td>\n",
              "      <td>yes</td>\n",
              "      <td>yes</td>\n",
              "      <td>no</td>\n",
              "      <td>no</td>\n",
              "      <td>4</td>\n",
              "      <td>3</td>\n",
              "      <td>2</td>\n",
              "      <td>1</td>\n",
              "      <td>2</td>\n",
              "      <td>5</td>\n",
              "      <td>0</td>\n",
              "      <td>11</td>\n",
              "      <td>13</td>\n",
              "      <td>13</td>\n",
              "    </tr>\n",
              "    <tr>\n",
              "      <th>...</th>\n",
              "      <td>...</td>\n",
              "      <td>...</td>\n",
              "      <td>...</td>\n",
              "      <td>...</td>\n",
              "      <td>...</td>\n",
              "      <td>...</td>\n",
              "      <td>...</td>\n",
              "      <td>...</td>\n",
              "      <td>...</td>\n",
              "      <td>...</td>\n",
              "      <td>...</td>\n",
              "      <td>...</td>\n",
              "      <td>...</td>\n",
              "      <td>...</td>\n",
              "      <td>...</td>\n",
              "      <td>...</td>\n",
              "      <td>...</td>\n",
              "      <td>...</td>\n",
              "      <td>...</td>\n",
              "      <td>...</td>\n",
              "      <td>...</td>\n",
              "      <td>...</td>\n",
              "      <td>...</td>\n",
              "      <td>...</td>\n",
              "      <td>...</td>\n",
              "      <td>...</td>\n",
              "      <td>...</td>\n",
              "      <td>...</td>\n",
              "      <td>...</td>\n",
              "      <td>...</td>\n",
              "      <td>...</td>\n",
              "      <td>...</td>\n",
              "      <td>...</td>\n",
              "    </tr>\n",
              "    <tr>\n",
              "      <th>644</th>\n",
              "      <td>MS</td>\n",
              "      <td>F</td>\n",
              "      <td>19</td>\n",
              "      <td>R</td>\n",
              "      <td>GT3</td>\n",
              "      <td>T</td>\n",
              "      <td>2</td>\n",
              "      <td>3</td>\n",
              "      <td>services</td>\n",
              "      <td>other</td>\n",
              "      <td>course</td>\n",
              "      <td>mother</td>\n",
              "      <td>1</td>\n",
              "      <td>3</td>\n",
              "      <td>1</td>\n",
              "      <td>no</td>\n",
              "      <td>no</td>\n",
              "      <td>no</td>\n",
              "      <td>yes</td>\n",
              "      <td>no</td>\n",
              "      <td>yes</td>\n",
              "      <td>yes</td>\n",
              "      <td>no</td>\n",
              "      <td>5</td>\n",
              "      <td>4</td>\n",
              "      <td>2</td>\n",
              "      <td>1</td>\n",
              "      <td>2</td>\n",
              "      <td>5</td>\n",
              "      <td>4</td>\n",
              "      <td>10</td>\n",
              "      <td>11</td>\n",
              "      <td>10</td>\n",
              "    </tr>\n",
              "    <tr>\n",
              "      <th>645</th>\n",
              "      <td>MS</td>\n",
              "      <td>F</td>\n",
              "      <td>18</td>\n",
              "      <td>U</td>\n",
              "      <td>LE3</td>\n",
              "      <td>T</td>\n",
              "      <td>3</td>\n",
              "      <td>1</td>\n",
              "      <td>teacher</td>\n",
              "      <td>services</td>\n",
              "      <td>course</td>\n",
              "      <td>mother</td>\n",
              "      <td>1</td>\n",
              "      <td>2</td>\n",
              "      <td>0</td>\n",
              "      <td>no</td>\n",
              "      <td>yes</td>\n",
              "      <td>no</td>\n",
              "      <td>no</td>\n",
              "      <td>yes</td>\n",
              "      <td>yes</td>\n",
              "      <td>yes</td>\n",
              "      <td>no</td>\n",
              "      <td>4</td>\n",
              "      <td>3</td>\n",
              "      <td>4</td>\n",
              "      <td>1</td>\n",
              "      <td>1</td>\n",
              "      <td>1</td>\n",
              "      <td>4</td>\n",
              "      <td>15</td>\n",
              "      <td>15</td>\n",
              "      <td>16</td>\n",
              "    </tr>\n",
              "    <tr>\n",
              "      <th>646</th>\n",
              "      <td>MS</td>\n",
              "      <td>F</td>\n",
              "      <td>18</td>\n",
              "      <td>U</td>\n",
              "      <td>GT3</td>\n",
              "      <td>T</td>\n",
              "      <td>1</td>\n",
              "      <td>1</td>\n",
              "      <td>other</td>\n",
              "      <td>other</td>\n",
              "      <td>course</td>\n",
              "      <td>mother</td>\n",
              "      <td>2</td>\n",
              "      <td>2</td>\n",
              "      <td>0</td>\n",
              "      <td>no</td>\n",
              "      <td>no</td>\n",
              "      <td>no</td>\n",
              "      <td>yes</td>\n",
              "      <td>yes</td>\n",
              "      <td>yes</td>\n",
              "      <td>no</td>\n",
              "      <td>no</td>\n",
              "      <td>1</td>\n",
              "      <td>1</td>\n",
              "      <td>1</td>\n",
              "      <td>1</td>\n",
              "      <td>1</td>\n",
              "      <td>5</td>\n",
              "      <td>6</td>\n",
              "      <td>11</td>\n",
              "      <td>12</td>\n",
              "      <td>9</td>\n",
              "    </tr>\n",
              "    <tr>\n",
              "      <th>647</th>\n",
              "      <td>MS</td>\n",
              "      <td>M</td>\n",
              "      <td>17</td>\n",
              "      <td>U</td>\n",
              "      <td>LE3</td>\n",
              "      <td>T</td>\n",
              "      <td>3</td>\n",
              "      <td>1</td>\n",
              "      <td>services</td>\n",
              "      <td>services</td>\n",
              "      <td>course</td>\n",
              "      <td>mother</td>\n",
              "      <td>2</td>\n",
              "      <td>1</td>\n",
              "      <td>0</td>\n",
              "      <td>no</td>\n",
              "      <td>no</td>\n",
              "      <td>no</td>\n",
              "      <td>no</td>\n",
              "      <td>no</td>\n",
              "      <td>yes</td>\n",
              "      <td>yes</td>\n",
              "      <td>no</td>\n",
              "      <td>2</td>\n",
              "      <td>4</td>\n",
              "      <td>5</td>\n",
              "      <td>3</td>\n",
              "      <td>4</td>\n",
              "      <td>2</td>\n",
              "      <td>6</td>\n",
              "      <td>10</td>\n",
              "      <td>10</td>\n",
              "      <td>10</td>\n",
              "    </tr>\n",
              "    <tr>\n",
              "      <th>648</th>\n",
              "      <td>MS</td>\n",
              "      <td>M</td>\n",
              "      <td>18</td>\n",
              "      <td>R</td>\n",
              "      <td>LE3</td>\n",
              "      <td>T</td>\n",
              "      <td>3</td>\n",
              "      <td>2</td>\n",
              "      <td>services</td>\n",
              "      <td>other</td>\n",
              "      <td>course</td>\n",
              "      <td>mother</td>\n",
              "      <td>3</td>\n",
              "      <td>1</td>\n",
              "      <td>0</td>\n",
              "      <td>no</td>\n",
              "      <td>no</td>\n",
              "      <td>no</td>\n",
              "      <td>no</td>\n",
              "      <td>no</td>\n",
              "      <td>yes</td>\n",
              "      <td>yes</td>\n",
              "      <td>no</td>\n",
              "      <td>4</td>\n",
              "      <td>4</td>\n",
              "      <td>1</td>\n",
              "      <td>3</td>\n",
              "      <td>4</td>\n",
              "      <td>5</td>\n",
              "      <td>4</td>\n",
              "      <td>10</td>\n",
              "      <td>11</td>\n",
              "      <td>11</td>\n",
              "    </tr>\n",
              "  </tbody>\n",
              "</table>\n",
              "<p>649 rows × 33 columns</p>\n",
              "</div>"
            ],
            "text/plain": [
              "    school sex  age address famsize Pstatus  ...  Walc  health absences  G1  G2  G3\n",
              "0       GP   F   18       U     GT3       A  ...     1       3        4   0  11  11\n",
              "1       GP   F   17       U     GT3       T  ...     1       3        2   9  11  11\n",
              "2       GP   F   15       U     LE3       T  ...     3       3        6  12  13  12\n",
              "3       GP   F   15       U     GT3       T  ...     1       5        0  14  14  14\n",
              "4       GP   F   16       U     GT3       T  ...     2       5        0  11  13  13\n",
              "..     ...  ..  ...     ...     ...     ...  ...   ...     ...      ...  ..  ..  ..\n",
              "644     MS   F   19       R     GT3       T  ...     2       5        4  10  11  10\n",
              "645     MS   F   18       U     LE3       T  ...     1       1        4  15  15  16\n",
              "646     MS   F   18       U     GT3       T  ...     1       5        6  11  12   9\n",
              "647     MS   M   17       U     LE3       T  ...     4       2        6  10  10  10\n",
              "648     MS   M   18       R     LE3       T  ...     4       5        4  10  11  11\n",
              "\n",
              "[649 rows x 33 columns]"
            ]
          },
          "metadata": {
            "tags": []
          },
          "execution_count": 36
        }
      ]
    },
    {
      "cell_type": "code",
      "metadata": {
        "colab": {
          "base_uri": "https://localhost:8080/"
        },
        "id": "FacIufb4zBzt",
        "outputId": "146c9c48-3556-4036-e46c-a4379000fa8e"
      },
      "source": [
        "print('Total number of participants')\n",
        "print(len(df))\n",
        "print( )\n",
        "\n",
        "female = df[df['sex'] == \"F\"]\n",
        "print('Number of female participants:')\n",
        "print(len(female))\n",
        "print( )\n",
        "\n",
        "male = df[df['sex'] == \"M\"]\n",
        "print('Number of male participants:')\n",
        "print(len(male))\n",
        "print( )\n",
        "\n",
        "print('Percentage of female participants:')\n",
        "print(len(female)/len(df))\n",
        "print( )\n",
        "\n",
        "print('Percentage of female participants:')\n",
        "print(len(male)/len(df))\n",
        "print( )"
      ],
      "execution_count": null,
      "outputs": [
        {
          "output_type": "stream",
          "text": [
            "Total number of participants\n",
            "649\n",
            "\n",
            "Number of female participants:\n",
            "383\n",
            "\n",
            "Number of male participants:\n",
            "266\n",
            "\n",
            "Percentage of female participants:\n",
            "0.5901386748844376\n",
            "\n",
            "Percentage of female participants:\n",
            "0.4098613251155624\n",
            "\n"
          ],
          "name": "stdout"
        }
      ]
    },
    {
      "cell_type": "code",
      "metadata": {
        "colab": {
          "base_uri": "https://localhost:8080/"
        },
        "id": "37izEMJfB_Dr",
        "outputId": "252a717a-147f-4eb1-ab84-23ac4e5c825d"
      },
      "source": [
        "print('Total number of participants')\n",
        "print(len(df))\n",
        "print( )\n",
        "\n",
        "urban = df[df['address'] == \"U\"]\n",
        "print('Number of urban participants:')\n",
        "print(len(urban))\n",
        "print( )\n",
        "\n",
        "rural = df[df['address'] == \"R\"]\n",
        "print('Number of rural participants:')\n",
        "print(len(rural))\n",
        "print( )\n",
        "\n",
        "print('Percentage of urban participants:')\n",
        "print(len(urban)/len(df))\n",
        "print( )\n",
        "\n",
        "print('Percentage of rural participants:')\n",
        "print(len(rural)/len(df))\n",
        "print( )\n",
        "\n",
        "urban_succeed = urban[urban['G3'] > 9]\n",
        "urban_succeed\n",
        "\n",
        "urban = df[df['address'] == \"U\"]\n",
        "print('Number of urban students succeeding:')\n",
        "print(len(urban_succeed))\n",
        "print( )\n",
        "\n",
        "print('Number of urban students failed:')\n",
        "print(len(urban) - len(urban_succeed))\n",
        "print( )\n",
        "\n",
        "print('Percent of urban students succeeding:')\n",
        "print(len(urban_succeed)/len(urban))\n",
        "print( )\n",
        "\n",
        "rural_succeed = rural[rural['G3'] > 9]\n",
        "rural_succeed\n",
        "\n",
        "rural = df[df['address'] == \"R\"]\n",
        "print('Number of rural students succeeding:')\n",
        "print(len(rural_succeed))\n",
        "print( )\n",
        "\n",
        "print('Number of rural students failed:')\n",
        "print(len(rural) - len(rural_succeed))\n",
        "print( )\n",
        "\n",
        "print('Percent of rural students succeeding:')\n",
        "print(len(rural_succeed)/len(rural))\n",
        "print( )"
      ],
      "execution_count": null,
      "outputs": [
        {
          "output_type": "stream",
          "text": [
            "Total number of participants\n",
            "649\n",
            "\n",
            "Number of urban participants:\n",
            "452\n",
            "\n",
            "Number of rural participants:\n",
            "197\n",
            "\n",
            "Percentage of urban participants:\n",
            "0.6964560862865947\n",
            "\n",
            "Percentage of rural participants:\n",
            "0.3035439137134052\n",
            "\n",
            "Number of urban students succeeding:\n",
            "396\n",
            "\n",
            "Number of urban students failed:\n",
            "56\n",
            "\n",
            "Percent of urban students succeeding:\n",
            "0.8761061946902655\n",
            "\n",
            "Number of rural students succeeding:\n",
            "153\n",
            "\n",
            "Number of rural students failed:\n",
            "44\n",
            "\n",
            "Percent of rural students succeeding:\n",
            "0.7766497461928934\n",
            "\n"
          ],
          "name": "stdout"
        }
      ]
    },
    {
      "cell_type": "code",
      "metadata": {
        "id": "uSMtpJkdz5ux",
        "colab": {
          "base_uri": "https://localhost:8080/"
        },
        "outputId": "58bef4b5-eefc-4177-cc62-4e6f6d31f860"
      },
      "source": [
        "female_succeed = female[female['G3'] > 9]\n",
        "female_succeed\n",
        "\n",
        "female = df[df['sex'] == \"F\"]\n",
        "print('Number of female students succeeding:')\n",
        "print(len(female_succeed))\n",
        "print( )\n",
        "\n",
        "print('Number of female students failed:')\n",
        "print(len(female) - len(female_succeed))\n",
        "print( )\n",
        "\n",
        "print('Percent of female students succeeding:')\n",
        "print(len(female_succeed)/len(female))\n",
        "print( )"
      ],
      "execution_count": null,
      "outputs": [
        {
          "output_type": "stream",
          "text": [
            "Number of female students succeeding:\n",
            "333\n",
            "\n",
            "Number of female students failed:\n",
            "50\n",
            "\n",
            "Percent of female students succeeding:\n",
            "0.8694516971279374\n",
            "\n"
          ],
          "name": "stdout"
        }
      ]
    },
    {
      "cell_type": "code",
      "metadata": {
        "colab": {
          "base_uri": "https://localhost:8080/"
        },
        "id": "VyF4P48rz8tk",
        "outputId": "60c2d067-218b-4680-bc0a-e3380bd0dee5"
      },
      "source": [
        "male_succeed = male[male['G3'] > 9]\n",
        "male_succeed\n",
        "\n",
        "male = df[df['sex'] == \"M\"]\n",
        "print('Number of male students succeeding:')\n",
        "print(len(male_succeed))\n",
        "print( )\n",
        "\n",
        "print('Number of male students failed:')\n",
        "print(len(male) - len(male_succeed))\n",
        "print( )\n",
        "\n",
        "print('Percent of male students succeeding:')\n",
        "print(len(male_succeed)/len(male))\n",
        "print( )"
      ],
      "execution_count": null,
      "outputs": [
        {
          "output_type": "stream",
          "text": [
            "Number of male students succeeding:\n",
            "216\n",
            "\n",
            "Number of male students failed:\n",
            "50\n",
            "\n",
            "Percent of male students succeeding:\n",
            "0.8120300751879699\n",
            "\n"
          ],
          "name": "stdout"
        }
      ]
    },
    {
      "cell_type": "markdown",
      "metadata": {
        "id": "FiBpDrRyZ7FH"
      },
      "source": [
        "#Cleaning the Data"
      ]
    },
    {
      "cell_type": "code",
      "metadata": {
        "colab": {
          "base_uri": "https://localhost:8080/"
        },
        "id": "1roa87XxrCsD",
        "outputId": "e676d154-304e-4901-d3f1-211c935f2685"
      },
      "source": [
        "df.head()\n",
        "labels = df['G3']\n",
        "labels = labels.replace(1, 0).replace(2, 0).replace(3, 0).replace(4, 0)\n",
        "labels = labels.replace(5, 0).replace(6, 0).replace(7, 0).replace(8, 0)\n",
        "labels = labels.replace(9, 0).replace(10, 1)\n",
        "labels = labels.replace(11, 1).replace(12, 1).replace(13, 1).replace(14, 1)\n",
        "labels = labels.replace(15, 1).replace(16, 1).replace(17, 1).replace(18, 1)\n",
        "labels = labels.replace(19, 1).replace(20, 1)\n",
        "\n",
        "print(labels)"
      ],
      "execution_count": null,
      "outputs": [
        {
          "output_type": "stream",
          "text": [
            "0      1\n",
            "1      1\n",
            "2      1\n",
            "3      1\n",
            "4      1\n",
            "      ..\n",
            "644    1\n",
            "645    1\n",
            "646    0\n",
            "647    1\n",
            "648    1\n",
            "Name: G3, Length: 649, dtype: int64\n"
          ],
          "name": "stdout"
        }
      ]
    },
    {
      "cell_type": "code",
      "metadata": {
        "id": "8QzADxTjctJC",
        "colab": {
          "base_uri": "https://localhost:8080/",
          "height": 439
        },
        "outputId": "4473fcd5-17a6-484e-e67a-3990ba092185"
      },
      "source": [
        "data = df.drop(columns=[\"G3\"])\n",
        "\n",
        "#0 for Gabriel Pereira, 1 for Mousinho da Silveira\n",
        "school = {'GP': 0, 'MS': 1}\n",
        "data.school = [school[item] for item in data.school]\n",
        "\n",
        "#0 for female, 1 for male\n",
        "sex = {'F': 0, 'M': 1}\n",
        "data.sex = [sex[item] for item in data.sex]\n",
        "\n",
        "#0 for urban, 1 for rural\n",
        "address = {'U': 0, 'R': 1}\n",
        "data.address = [address[item] for item in data.address]\n",
        "\n",
        "#0 for less than or equal to 3, 1 for greater than three\n",
        "famsize = {'LE3': 0, 'GT3': 1}\n",
        "data.famsize = [famsize[item] for item in data.famsize]\n",
        "\n",
        "#0 for living together, 1 for living apart\n",
        "Pstatus = {'T': 0, 'A': 1}\n",
        "data.Pstatus = [Pstatus[item] for item in data.Pstatus]\n",
        "\n",
        "#0 for teacher, 1 for health care, 2 for services, 3 for at home, 4 for other\n",
        "Mjob = {'teacher': 0, 'health': 1, 'services': 2, 'at_home': 3, 'other': 4}\n",
        "data.Mjob = [Mjob[item] for item in data.Mjob]\n",
        "data.Fjob = [Mjob[item] for item in data.Fjob]\n",
        "\n",
        "#0 for close to home, 1 for school reputation, 2 for course preference, 3 for other\n",
        "reason = {'home': 0, 'reputation': 1, 'course': 2, 'other': 3}\n",
        "data.reason = [reason[item] for item in data.reason]\n",
        "\n",
        "#0 for mother, 1 for father, 2 for other\n",
        "guardian = {'mother': 0, 'father': 1, 'other': 2}\n",
        "data.guardian = [guardian[item] for item in data.guardian]\n",
        "\n",
        "#0 for yes, 1 for no\n",
        "yesOrNo = {'yes': 0, 'no': 1}\n",
        "data.schoolsup = [yesOrNo[item] for item in data.schoolsup]\n",
        "data.famsup = [yesOrNo[item] for item in data.famsup]\n",
        "data.paid = [yesOrNo[item] for item in data.paid]\n",
        "data.activities = [yesOrNo[item] for item in data.activities]\n",
        "data.nursery = [yesOrNo[item] for item in data.nursery]\n",
        "data.higher = [yesOrNo[item] for item in data.higher]\n",
        "data.internet = [yesOrNo[item] for item in data.internet]\n",
        "data.romantic = [yesOrNo[item] for item in data.romantic]\n",
        "\n",
        "train_proportion = 0.7\n",
        "train_x, test_x, train_y, test_y = train_test_split(data, labels, \n",
        "                                                    train_size=train_proportion, \n",
        "                                                    test_size=1-train_proportion, \n",
        "                                                    random_state=419)\n",
        "\n",
        "data"
      ],
      "execution_count": null,
      "outputs": [
        {
          "output_type": "execute_result",
          "data": {
            "text/html": [
              "<div>\n",
              "<style scoped>\n",
              "    .dataframe tbody tr th:only-of-type {\n",
              "        vertical-align: middle;\n",
              "    }\n",
              "\n",
              "    .dataframe tbody tr th {\n",
              "        vertical-align: top;\n",
              "    }\n",
              "\n",
              "    .dataframe thead th {\n",
              "        text-align: right;\n",
              "    }\n",
              "</style>\n",
              "<table border=\"1\" class=\"dataframe\">\n",
              "  <thead>\n",
              "    <tr style=\"text-align: right;\">\n",
              "      <th></th>\n",
              "      <th>school</th>\n",
              "      <th>sex</th>\n",
              "      <th>age</th>\n",
              "      <th>address</th>\n",
              "      <th>famsize</th>\n",
              "      <th>Pstatus</th>\n",
              "      <th>Medu</th>\n",
              "      <th>Fedu</th>\n",
              "      <th>Mjob</th>\n",
              "      <th>Fjob</th>\n",
              "      <th>reason</th>\n",
              "      <th>guardian</th>\n",
              "      <th>traveltime</th>\n",
              "      <th>studytime</th>\n",
              "      <th>failures</th>\n",
              "      <th>schoolsup</th>\n",
              "      <th>famsup</th>\n",
              "      <th>paid</th>\n",
              "      <th>activities</th>\n",
              "      <th>nursery</th>\n",
              "      <th>higher</th>\n",
              "      <th>internet</th>\n",
              "      <th>romantic</th>\n",
              "      <th>famrel</th>\n",
              "      <th>freetime</th>\n",
              "      <th>goout</th>\n",
              "      <th>Dalc</th>\n",
              "      <th>Walc</th>\n",
              "      <th>health</th>\n",
              "      <th>absences</th>\n",
              "      <th>G1</th>\n",
              "      <th>G2</th>\n",
              "    </tr>\n",
              "  </thead>\n",
              "  <tbody>\n",
              "    <tr>\n",
              "      <th>0</th>\n",
              "      <td>0</td>\n",
              "      <td>0</td>\n",
              "      <td>18</td>\n",
              "      <td>0</td>\n",
              "      <td>1</td>\n",
              "      <td>1</td>\n",
              "      <td>4</td>\n",
              "      <td>4</td>\n",
              "      <td>3</td>\n",
              "      <td>0</td>\n",
              "      <td>2</td>\n",
              "      <td>0</td>\n",
              "      <td>2</td>\n",
              "      <td>2</td>\n",
              "      <td>0</td>\n",
              "      <td>0</td>\n",
              "      <td>1</td>\n",
              "      <td>1</td>\n",
              "      <td>1</td>\n",
              "      <td>0</td>\n",
              "      <td>0</td>\n",
              "      <td>1</td>\n",
              "      <td>1</td>\n",
              "      <td>4</td>\n",
              "      <td>3</td>\n",
              "      <td>4</td>\n",
              "      <td>1</td>\n",
              "      <td>1</td>\n",
              "      <td>3</td>\n",
              "      <td>4</td>\n",
              "      <td>0</td>\n",
              "      <td>11</td>\n",
              "    </tr>\n",
              "    <tr>\n",
              "      <th>1</th>\n",
              "      <td>0</td>\n",
              "      <td>0</td>\n",
              "      <td>17</td>\n",
              "      <td>0</td>\n",
              "      <td>1</td>\n",
              "      <td>0</td>\n",
              "      <td>1</td>\n",
              "      <td>1</td>\n",
              "      <td>3</td>\n",
              "      <td>4</td>\n",
              "      <td>2</td>\n",
              "      <td>1</td>\n",
              "      <td>1</td>\n",
              "      <td>2</td>\n",
              "      <td>0</td>\n",
              "      <td>1</td>\n",
              "      <td>0</td>\n",
              "      <td>1</td>\n",
              "      <td>1</td>\n",
              "      <td>1</td>\n",
              "      <td>0</td>\n",
              "      <td>0</td>\n",
              "      <td>1</td>\n",
              "      <td>5</td>\n",
              "      <td>3</td>\n",
              "      <td>3</td>\n",
              "      <td>1</td>\n",
              "      <td>1</td>\n",
              "      <td>3</td>\n",
              "      <td>2</td>\n",
              "      <td>9</td>\n",
              "      <td>11</td>\n",
              "    </tr>\n",
              "    <tr>\n",
              "      <th>2</th>\n",
              "      <td>0</td>\n",
              "      <td>0</td>\n",
              "      <td>15</td>\n",
              "      <td>0</td>\n",
              "      <td>0</td>\n",
              "      <td>0</td>\n",
              "      <td>1</td>\n",
              "      <td>1</td>\n",
              "      <td>3</td>\n",
              "      <td>4</td>\n",
              "      <td>3</td>\n",
              "      <td>0</td>\n",
              "      <td>1</td>\n",
              "      <td>2</td>\n",
              "      <td>0</td>\n",
              "      <td>0</td>\n",
              "      <td>1</td>\n",
              "      <td>1</td>\n",
              "      <td>1</td>\n",
              "      <td>0</td>\n",
              "      <td>0</td>\n",
              "      <td>0</td>\n",
              "      <td>1</td>\n",
              "      <td>4</td>\n",
              "      <td>3</td>\n",
              "      <td>2</td>\n",
              "      <td>2</td>\n",
              "      <td>3</td>\n",
              "      <td>3</td>\n",
              "      <td>6</td>\n",
              "      <td>12</td>\n",
              "      <td>13</td>\n",
              "    </tr>\n",
              "    <tr>\n",
              "      <th>3</th>\n",
              "      <td>0</td>\n",
              "      <td>0</td>\n",
              "      <td>15</td>\n",
              "      <td>0</td>\n",
              "      <td>1</td>\n",
              "      <td>0</td>\n",
              "      <td>4</td>\n",
              "      <td>2</td>\n",
              "      <td>1</td>\n",
              "      <td>2</td>\n",
              "      <td>0</td>\n",
              "      <td>0</td>\n",
              "      <td>1</td>\n",
              "      <td>3</td>\n",
              "      <td>0</td>\n",
              "      <td>1</td>\n",
              "      <td>0</td>\n",
              "      <td>1</td>\n",
              "      <td>0</td>\n",
              "      <td>0</td>\n",
              "      <td>0</td>\n",
              "      <td>0</td>\n",
              "      <td>0</td>\n",
              "      <td>3</td>\n",
              "      <td>2</td>\n",
              "      <td>2</td>\n",
              "      <td>1</td>\n",
              "      <td>1</td>\n",
              "      <td>5</td>\n",
              "      <td>0</td>\n",
              "      <td>14</td>\n",
              "      <td>14</td>\n",
              "    </tr>\n",
              "    <tr>\n",
              "      <th>4</th>\n",
              "      <td>0</td>\n",
              "      <td>0</td>\n",
              "      <td>16</td>\n",
              "      <td>0</td>\n",
              "      <td>1</td>\n",
              "      <td>0</td>\n",
              "      <td>3</td>\n",
              "      <td>3</td>\n",
              "      <td>4</td>\n",
              "      <td>4</td>\n",
              "      <td>0</td>\n",
              "      <td>1</td>\n",
              "      <td>1</td>\n",
              "      <td>2</td>\n",
              "      <td>0</td>\n",
              "      <td>1</td>\n",
              "      <td>0</td>\n",
              "      <td>1</td>\n",
              "      <td>1</td>\n",
              "      <td>0</td>\n",
              "      <td>0</td>\n",
              "      <td>1</td>\n",
              "      <td>1</td>\n",
              "      <td>4</td>\n",
              "      <td>3</td>\n",
              "      <td>2</td>\n",
              "      <td>1</td>\n",
              "      <td>2</td>\n",
              "      <td>5</td>\n",
              "      <td>0</td>\n",
              "      <td>11</td>\n",
              "      <td>13</td>\n",
              "    </tr>\n",
              "    <tr>\n",
              "      <th>...</th>\n",
              "      <td>...</td>\n",
              "      <td>...</td>\n",
              "      <td>...</td>\n",
              "      <td>...</td>\n",
              "      <td>...</td>\n",
              "      <td>...</td>\n",
              "      <td>...</td>\n",
              "      <td>...</td>\n",
              "      <td>...</td>\n",
              "      <td>...</td>\n",
              "      <td>...</td>\n",
              "      <td>...</td>\n",
              "      <td>...</td>\n",
              "      <td>...</td>\n",
              "      <td>...</td>\n",
              "      <td>...</td>\n",
              "      <td>...</td>\n",
              "      <td>...</td>\n",
              "      <td>...</td>\n",
              "      <td>...</td>\n",
              "      <td>...</td>\n",
              "      <td>...</td>\n",
              "      <td>...</td>\n",
              "      <td>...</td>\n",
              "      <td>...</td>\n",
              "      <td>...</td>\n",
              "      <td>...</td>\n",
              "      <td>...</td>\n",
              "      <td>...</td>\n",
              "      <td>...</td>\n",
              "      <td>...</td>\n",
              "      <td>...</td>\n",
              "    </tr>\n",
              "    <tr>\n",
              "      <th>644</th>\n",
              "      <td>1</td>\n",
              "      <td>0</td>\n",
              "      <td>19</td>\n",
              "      <td>1</td>\n",
              "      <td>1</td>\n",
              "      <td>0</td>\n",
              "      <td>2</td>\n",
              "      <td>3</td>\n",
              "      <td>2</td>\n",
              "      <td>4</td>\n",
              "      <td>2</td>\n",
              "      <td>0</td>\n",
              "      <td>1</td>\n",
              "      <td>3</td>\n",
              "      <td>1</td>\n",
              "      <td>1</td>\n",
              "      <td>1</td>\n",
              "      <td>1</td>\n",
              "      <td>0</td>\n",
              "      <td>1</td>\n",
              "      <td>0</td>\n",
              "      <td>0</td>\n",
              "      <td>1</td>\n",
              "      <td>5</td>\n",
              "      <td>4</td>\n",
              "      <td>2</td>\n",
              "      <td>1</td>\n",
              "      <td>2</td>\n",
              "      <td>5</td>\n",
              "      <td>4</td>\n",
              "      <td>10</td>\n",
              "      <td>11</td>\n",
              "    </tr>\n",
              "    <tr>\n",
              "      <th>645</th>\n",
              "      <td>1</td>\n",
              "      <td>0</td>\n",
              "      <td>18</td>\n",
              "      <td>0</td>\n",
              "      <td>0</td>\n",
              "      <td>0</td>\n",
              "      <td>3</td>\n",
              "      <td>1</td>\n",
              "      <td>0</td>\n",
              "      <td>2</td>\n",
              "      <td>2</td>\n",
              "      <td>0</td>\n",
              "      <td>1</td>\n",
              "      <td>2</td>\n",
              "      <td>0</td>\n",
              "      <td>1</td>\n",
              "      <td>0</td>\n",
              "      <td>1</td>\n",
              "      <td>1</td>\n",
              "      <td>0</td>\n",
              "      <td>0</td>\n",
              "      <td>0</td>\n",
              "      <td>1</td>\n",
              "      <td>4</td>\n",
              "      <td>3</td>\n",
              "      <td>4</td>\n",
              "      <td>1</td>\n",
              "      <td>1</td>\n",
              "      <td>1</td>\n",
              "      <td>4</td>\n",
              "      <td>15</td>\n",
              "      <td>15</td>\n",
              "    </tr>\n",
              "    <tr>\n",
              "      <th>646</th>\n",
              "      <td>1</td>\n",
              "      <td>0</td>\n",
              "      <td>18</td>\n",
              "      <td>0</td>\n",
              "      <td>1</td>\n",
              "      <td>0</td>\n",
              "      <td>1</td>\n",
              "      <td>1</td>\n",
              "      <td>4</td>\n",
              "      <td>4</td>\n",
              "      <td>2</td>\n",
              "      <td>0</td>\n",
              "      <td>2</td>\n",
              "      <td>2</td>\n",
              "      <td>0</td>\n",
              "      <td>1</td>\n",
              "      <td>1</td>\n",
              "      <td>1</td>\n",
              "      <td>0</td>\n",
              "      <td>0</td>\n",
              "      <td>0</td>\n",
              "      <td>1</td>\n",
              "      <td>1</td>\n",
              "      <td>1</td>\n",
              "      <td>1</td>\n",
              "      <td>1</td>\n",
              "      <td>1</td>\n",
              "      <td>1</td>\n",
              "      <td>5</td>\n",
              "      <td>6</td>\n",
              "      <td>11</td>\n",
              "      <td>12</td>\n",
              "    </tr>\n",
              "    <tr>\n",
              "      <th>647</th>\n",
              "      <td>1</td>\n",
              "      <td>1</td>\n",
              "      <td>17</td>\n",
              "      <td>0</td>\n",
              "      <td>0</td>\n",
              "      <td>0</td>\n",
              "      <td>3</td>\n",
              "      <td>1</td>\n",
              "      <td>2</td>\n",
              "      <td>2</td>\n",
              "      <td>2</td>\n",
              "      <td>0</td>\n",
              "      <td>2</td>\n",
              "      <td>1</td>\n",
              "      <td>0</td>\n",
              "      <td>1</td>\n",
              "      <td>1</td>\n",
              "      <td>1</td>\n",
              "      <td>1</td>\n",
              "      <td>1</td>\n",
              "      <td>0</td>\n",
              "      <td>0</td>\n",
              "      <td>1</td>\n",
              "      <td>2</td>\n",
              "      <td>4</td>\n",
              "      <td>5</td>\n",
              "      <td>3</td>\n",
              "      <td>4</td>\n",
              "      <td>2</td>\n",
              "      <td>6</td>\n",
              "      <td>10</td>\n",
              "      <td>10</td>\n",
              "    </tr>\n",
              "    <tr>\n",
              "      <th>648</th>\n",
              "      <td>1</td>\n",
              "      <td>1</td>\n",
              "      <td>18</td>\n",
              "      <td>1</td>\n",
              "      <td>0</td>\n",
              "      <td>0</td>\n",
              "      <td>3</td>\n",
              "      <td>2</td>\n",
              "      <td>2</td>\n",
              "      <td>4</td>\n",
              "      <td>2</td>\n",
              "      <td>0</td>\n",
              "      <td>3</td>\n",
              "      <td>1</td>\n",
              "      <td>0</td>\n",
              "      <td>1</td>\n",
              "      <td>1</td>\n",
              "      <td>1</td>\n",
              "      <td>1</td>\n",
              "      <td>1</td>\n",
              "      <td>0</td>\n",
              "      <td>0</td>\n",
              "      <td>1</td>\n",
              "      <td>4</td>\n",
              "      <td>4</td>\n",
              "      <td>1</td>\n",
              "      <td>3</td>\n",
              "      <td>4</td>\n",
              "      <td>5</td>\n",
              "      <td>4</td>\n",
              "      <td>10</td>\n",
              "      <td>11</td>\n",
              "    </tr>\n",
              "  </tbody>\n",
              "</table>\n",
              "<p>649 rows × 32 columns</p>\n",
              "</div>"
            ],
            "text/plain": [
              "     school  sex  age  address  famsize  ...  Walc  health  absences  G1  G2\n",
              "0         0    0   18        0        1  ...     1       3         4   0  11\n",
              "1         0    0   17        0        1  ...     1       3         2   9  11\n",
              "2         0    0   15        0        0  ...     3       3         6  12  13\n",
              "3         0    0   15        0        1  ...     1       5         0  14  14\n",
              "4         0    0   16        0        1  ...     2       5         0  11  13\n",
              "..      ...  ...  ...      ...      ...  ...   ...     ...       ...  ..  ..\n",
              "644       1    0   19        1        1  ...     2       5         4  10  11\n",
              "645       1    0   18        0        0  ...     1       1         4  15  15\n",
              "646       1    0   18        0        1  ...     1       5         6  11  12\n",
              "647       1    1   17        0        0  ...     4       2         6  10  10\n",
              "648       1    1   18        1        0  ...     4       5         4  10  11\n",
              "\n",
              "[649 rows x 32 columns]"
            ]
          },
          "metadata": {
            "tags": []
          },
          "execution_count": 42
        }
      ]
    },
    {
      "cell_type": "markdown",
      "metadata": {
        "id": "iirXyesb2tbA"
      },
      "source": [
        "# Data Exploration"
      ]
    },
    {
      "cell_type": "markdown",
      "metadata": {
        "id": "zfcAeA7O2yh0"
      },
      "source": [
        "Let's look at the data distribution between female and male students to better inform our analysis."
      ]
    },
    {
      "cell_type": "code",
      "metadata": {
        "colab": {
          "base_uri": "https://localhost:8080/"
        },
        "id": "_sI1AUV52u5w",
        "outputId": "4913b5ae-eac1-46b4-915c-5800c8f5d93d"
      },
      "source": [
        "all_female = data[(data['sex'] == 0)]\n",
        "all_male = data[(data['sex'] == 1)]\n",
        "print(len(all_female) / len(data))\n",
        "print(len(all_male) / len(data))"
      ],
      "execution_count": null,
      "outputs": [
        {
          "output_type": "stream",
          "text": [
            "0.5901386748844376\n",
            "0.4098613251155624\n"
          ],
          "name": "stdout"
        }
      ]
    },
    {
      "cell_type": "markdown",
      "metadata": {
        "id": "jkxiRelZ2w8w"
      },
      "source": [
        "So, there's about a 60/40 split with more female students than male students.\n",
        "\n",
        "Let's look at the distribution between urban and rural students."
      ]
    },
    {
      "cell_type": "code",
      "metadata": {
        "colab": {
          "base_uri": "https://localhost:8080/"
        },
        "id": "pyVgZeKc2wBo",
        "outputId": "4cfc7db8-e4df-49a8-b0f7-ff3db66f5240"
      },
      "source": [
        "all_urban = data[(data['address'] == 0)]\n",
        "all_rural = data[(data['address'] == 1)]\n",
        "print(len(all_urban) / len(data))\n",
        "print(len(all_rural) / len(data))"
      ],
      "execution_count": null,
      "outputs": [
        {
          "output_type": "stream",
          "text": [
            "0.6964560862865947\n",
            "0.3035439137134052\n"
          ],
          "name": "stdout"
        }
      ]
    },
    {
      "cell_type": "markdown",
      "metadata": {
        "id": "KSGG3MLQ3P6k"
      },
      "source": [
        "We can see the majority of our original data favors urban students over rural students with about a 70/30 split.\n",
        "\n"
      ]
    },
    {
      "cell_type": "markdown",
      "metadata": {
        "id": "XvWpocqg3ea2"
      },
      "source": [
        "Let's look at our train and test data sets as well"
      ]
    },
    {
      "cell_type": "code",
      "metadata": {
        "colab": {
          "base_uri": "https://localhost:8080/"
        },
        "id": "N0tLuAxI3g_b",
        "outputId": "c4cd00fb-00cf-40d2-bb97-fc83f2f0d3cb"
      },
      "source": [
        "test_female = test_x[(test_x['sex'] == 0)]\n",
        "test_male = test_x[(test_x['sex'] == 1)]\n",
        "test_urban = test_x[(test_x['address'] == 0)]\n",
        "test_rural = test_x[(test_x['address'] == 1)]\n",
        "\n",
        "print(\"Test data\")\n",
        "print(\"---------\")\n",
        "print(\"Female students:\", len(test_female) / len(test_x))\n",
        "print(\"Male students:  \", len(test_male) / len(test_x))\n",
        "print()\n",
        "print(\"Urban students:\", len(test_urban) / len(test_x))\n",
        "print(\"Rural students:\", len(test_rural) / len(test_x))"
      ],
      "execution_count": null,
      "outputs": [
        {
          "output_type": "stream",
          "text": [
            "Test data\n",
            "---------\n",
            "Female students: 0.5435897435897435\n",
            "Male students:   0.4564102564102564\n",
            "\n",
            "Urban students: 0.6461538461538462\n",
            "Rural students: 0.35384615384615387\n"
          ],
          "name": "stdout"
        }
      ]
    },
    {
      "cell_type": "code",
      "metadata": {
        "colab": {
          "base_uri": "https://localhost:8080/"
        },
        "id": "6NHKl-hr4bT_",
        "outputId": "dbb56e41-81a3-4144-dfbb-355fdd45061d"
      },
      "source": [
        "train_female = train_x[(train_x['sex'] == 0)]\n",
        "train_male = train_x[(train_x['sex'] == 1)]\n",
        "train_urban = train_x[(train_x['address'] == 0)]\n",
        "train_rural = train_x[(train_x['address'] == 1)]\n",
        "\n",
        "print(\"Train data\")\n",
        "print(\"---------\")\n",
        "print(\"Female students:\", len(train_female) / len(train_x))\n",
        "print(\"Male students:  \", len(train_male) / len(train_x))\n",
        "print()\n",
        "print(\"Urban students:\", len(train_urban) / len(train_x))\n",
        "print(\"Rural students:\", len(train_rural) / len(train_x))"
      ],
      "execution_count": null,
      "outputs": [
        {
          "output_type": "stream",
          "text": [
            "Train data\n",
            "---------\n",
            "Female students: 0.6101321585903083\n",
            "Male students:   0.3898678414096916\n",
            "\n",
            "Urban students: 0.7180616740088106\n",
            "Rural students: 0.28193832599118945\n"
          ],
          "name": "stdout"
        }
      ]
    },
    {
      "cell_type": "markdown",
      "metadata": {
        "id": "2iPcFkbcZcNA"
      },
      "source": [
        "# Independence"
      ]
    },
    {
      "cell_type": "code",
      "metadata": {
        "id": "mrTpH--QaJ3f",
        "colab": {
          "base_uri": "https://localhost:8080/"
        },
        "outputId": "8024262b-e7c9-4515-b226-4d47d91a32ab"
      },
      "source": [
        "from sklearn import linear_model\n",
        "\n",
        "num_train = len(train_x)\n",
        "cls = linear_model.LogisticRegression(max_iter=100000)\n",
        "cls.fit(train_x, train_y)"
      ],
      "execution_count": null,
      "outputs": [
        {
          "output_type": "execute_result",
          "data": {
            "text/plain": [
              "LogisticRegression(C=1.0, class_weight=None, dual=False, fit_intercept=True,\n",
              "                   intercept_scaling=1, l1_ratio=None, max_iter=100000,\n",
              "                   multi_class='auto', n_jobs=None, penalty='l2',\n",
              "                   random_state=None, solver='lbfgs', tol=0.0001, verbose=0,\n",
              "                   warm_start=False)"
            ]
          },
          "metadata": {
            "tags": []
          },
          "execution_count": 347
        }
      ]
    },
    {
      "cell_type": "code",
      "metadata": {
        "colab": {
          "base_uri": "https://localhost:8080/"
        },
        "id": "bW2ajfGm3fIW",
        "outputId": "31a12354-af24-4637-faa9-1404dca9b381"
      },
      "source": [
        "predictions = cls.predict(test_x)\n",
        "\n",
        "overall_scores = cls.score(test_x, test_y)\n",
        "\n",
        "overall_scores"
      ],
      "execution_count": null,
      "outputs": [
        {
          "output_type": "execute_result",
          "data": {
            "text/plain": [
              "0.9230769230769231"
            ]
          },
          "metadata": {
            "tags": []
          },
          "execution_count": 50
        }
      ]
    },
    {
      "cell_type": "code",
      "metadata": {
        "colab": {
          "base_uri": "https://localhost:8080/"
        },
        "id": "7OVAneiC4XiX",
        "outputId": "b6615e49-dad9-414e-f7c7-d9c275c75ce9"
      },
      "source": [
        "from sklearn.metrics import classification_report\n",
        "print(classification_report(predictions, test_y))"
      ],
      "execution_count": null,
      "outputs": [
        {
          "output_type": "stream",
          "text": [
            "              precision    recall  f1-score   support\n",
            "\n",
            "           0       0.68      0.76      0.72        25\n",
            "           1       0.96      0.95      0.96       170\n",
            "\n",
            "    accuracy                           0.92       195\n",
            "   macro avg       0.82      0.85      0.84       195\n",
            "weighted avg       0.93      0.92      0.92       195\n",
            "\n"
          ],
          "name": "stdout"
        }
      ]
    },
    {
      "cell_type": "markdown",
      "metadata": {
        "id": "Srmj8P9D4dq5"
      },
      "source": [
        "\n",
        "\n",
        "### Demographic Parity"
      ]
    },
    {
      "cell_type": "code",
      "metadata": {
        "colab": {
          "base_uri": "https://localhost:8080/",
          "height": 204
        },
        "id": "46Ct5qDq4gca",
        "outputId": "bfe8f245-f023-41ca-b144-f993784e3c37"
      },
      "source": [
        "scores = cls.predict_proba(test_x)[:, 1]\n",
        "d = {'target' : test_y.values,\n",
        "     'score' : scores,\n",
        "     'prediction' : predictions,\n",
        "     'address' : test_x['address'],\n",
        "     'gender' : test_x['sex']}\n",
        "\n",
        "marginals = pd.DataFrame(data=d, columns=['target', 'score', 'prediction', 'address', 'gender'])\n",
        "marginals.head()"
      ],
      "execution_count": null,
      "outputs": [
        {
          "output_type": "execute_result",
          "data": {
            "text/html": [
              "<div>\n",
              "<style scoped>\n",
              "    .dataframe tbody tr th:only-of-type {\n",
              "        vertical-align: middle;\n",
              "    }\n",
              "\n",
              "    .dataframe tbody tr th {\n",
              "        vertical-align: top;\n",
              "    }\n",
              "\n",
              "    .dataframe thead th {\n",
              "        text-align: right;\n",
              "    }\n",
              "</style>\n",
              "<table border=\"1\" class=\"dataframe\">\n",
              "  <thead>\n",
              "    <tr style=\"text-align: right;\">\n",
              "      <th></th>\n",
              "      <th>target</th>\n",
              "      <th>score</th>\n",
              "      <th>prediction</th>\n",
              "      <th>address</th>\n",
              "      <th>gender</th>\n",
              "    </tr>\n",
              "  </thead>\n",
              "  <tbody>\n",
              "    <tr>\n",
              "      <th>46</th>\n",
              "      <td>1</td>\n",
              "      <td>0.999177</td>\n",
              "      <td>1</td>\n",
              "      <td>0</td>\n",
              "      <td>0</td>\n",
              "    </tr>\n",
              "    <tr>\n",
              "      <th>197</th>\n",
              "      <td>1</td>\n",
              "      <td>0.999706</td>\n",
              "      <td>1</td>\n",
              "      <td>0</td>\n",
              "      <td>0</td>\n",
              "    </tr>\n",
              "    <tr>\n",
              "      <th>208</th>\n",
              "      <td>1</td>\n",
              "      <td>0.999889</td>\n",
              "      <td>1</td>\n",
              "      <td>0</td>\n",
              "      <td>1</td>\n",
              "    </tr>\n",
              "    <tr>\n",
              "      <th>326</th>\n",
              "      <td>1</td>\n",
              "      <td>0.999714</td>\n",
              "      <td>1</td>\n",
              "      <td>0</td>\n",
              "      <td>1</td>\n",
              "    </tr>\n",
              "    <tr>\n",
              "      <th>359</th>\n",
              "      <td>1</td>\n",
              "      <td>0.999999</td>\n",
              "      <td>1</td>\n",
              "      <td>1</td>\n",
              "      <td>0</td>\n",
              "    </tr>\n",
              "  </tbody>\n",
              "</table>\n",
              "</div>"
            ],
            "text/plain": [
              "     target     score  prediction  address  gender\n",
              "46        1  0.999177           1        0       0\n",
              "197       1  0.999706           1        0       0\n",
              "208       1  0.999889           1        0       1\n",
              "326       1  0.999714           1        0       1\n",
              "359       1  0.999999           1        1       0"
            ]
          },
          "metadata": {
            "tags": []
          },
          "execution_count": 53
        }
      ]
    },
    {
      "cell_type": "markdown",
      "metadata": {
        "id": "yrFTjyj4xVH_"
      },
      "source": [
        "#### For Female vs. Male"
      ]
    },
    {
      "cell_type": "code",
      "metadata": {
        "colab": {
          "base_uri": "https://localhost:8080/"
        },
        "id": "1zn85aqp6T4v",
        "outputId": "b0b0a017-93c5-4d27-bc93-4cfb2ddb49f7"
      },
      "source": [
        "postive_class = marginals[(marginals['prediction'] == 1) ]\n",
        "\n",
        "positive_female = postive_class[(postive_class['gender'] == 0)]\n",
        "positive_male = postive_class[(postive_class['gender'] == 1)]\n",
        "\n",
        "print(\"# of positively classified males to females ->\", len(positive_male)/len(positive_female))\n",
        "\n",
        "female = marginals[marginals['gender'] == 0]\n",
        "male = marginals[marginals['gender'] == 1]\n",
        "\n",
        "print(\"% of positively classified males to females ->\", (len(positive_male)/len(male))/(len(positive_female)/len(female)))"
      ],
      "execution_count": null,
      "outputs": [
        {
          "output_type": "stream",
          "text": [
            "# of positively classified males to females -> 0.8085106382978723\n",
            "% of positively classified males to females -> 0.9629452546019602\n"
          ],
          "name": "stdout"
        }
      ]
    },
    {
      "cell_type": "markdown",
      "metadata": {
        "id": "_CnLIxDYxh7h"
      },
      "source": [
        "#### For Urban vs. Rural"
      ]
    },
    {
      "cell_type": "code",
      "metadata": {
        "colab": {
          "base_uri": "https://localhost:8080/"
        },
        "id": "1OhlSEcqxkMm",
        "outputId": "783b3bb5-f8be-4987-ec63-3a090b6e0a11"
      },
      "source": [
        "positive_urban = postive_class[(postive_class['address'] == 0)]\n",
        "positive_rural = postive_class[(postive_class['address'] == 1)]\n",
        "\n",
        "print(\"# of positively classified rural to urban students ->\", len(positive_rural)/len(positive_urban))\n",
        "\n",
        "urban = marginals[marginals['address'] == 0]\n",
        "rural = marginals[marginals['address'] == 1]\n",
        "\n",
        "print(\"% of positively classified rural to urban students ->\", (len(positive_rural)/len(rural))/(len(positive_urban)/len(urban)))"
      ],
      "execution_count": null,
      "outputs": [
        {
          "output_type": "stream",
          "text": [
            "# of positively classified rural to urban students -> 0.5315315315315315\n",
            "% of positively classified rural to urban students -> 0.9706227967097533\n"
          ],
          "name": "stdout"
        }
      ]
    },
    {
      "cell_type": "markdown",
      "metadata": {
        "id": "hxA9sJZX96CJ"
      },
      "source": [
        "We care more about the percentage comparison because "
      ]
    },
    {
      "cell_type": "markdown",
      "metadata": {
        "id": "1o8UVnLgZfZL"
      },
      "source": [
        "# Seperation"
      ]
    },
    {
      "cell_type": "code",
      "metadata": {
        "id": "u1GEXpwfZqe4"
      },
      "source": [
        "fpr_all, tpr_all, _ = metrics.roc_curve(marginals['target'], marginals['score']) "
      ],
      "execution_count": null,
      "outputs": []
    },
    {
      "cell_type": "code",
      "metadata": {
        "id": "wMEcH2dNrXjO",
        "colab": {
          "base_uri": "https://localhost:8080/",
          "height": 367
        },
        "outputId": "57a341f4-1a1c-49a0-be00-5c2d79746f43"
      },
      "source": [
        "plt.figure(1, figsize = (6,5))\n",
        "plt.title('ROC curve')\n",
        "plt.xlabel('False positive rate')\n",
        "plt.ylabel('True positive rate')\n",
        "\n",
        "plt.plot(fpr_all, tpr_all, color='b')\n",
        "plt.legend()\n",
        "plt.show()"
      ],
      "execution_count": null,
      "outputs": [
        {
          "output_type": "stream",
          "text": [
            "No handles with labels found to put in legend.\n"
          ],
          "name": "stderr"
        },
        {
          "output_type": "display_data",
          "data": {
            "image/png": "[encoded data removed]",
            "text/plain": [
              "<Figure size 432x360 with 1 Axes>"
            ]
          },
          "metadata": {
            "tags": [],
            "needs_background": "light"
          }
        }
      ]
    },
    {
      "cell_type": "markdown",
      "metadata": {
        "id": "kGummAWPrfCR"
      },
      "source": [
        "Please note that if a line does not show up on the ROC curve, it is most likely because none of the data points have a positive criteria or it overlaps with another ROC curve. This usually occurs with rural male because the red line takes precedence. Example Below:\n",
        "\n",
        "\n",
        "---\n",
        "\n",
        "![Capture.PNG](data:image/png;base64,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)\n"
      ]
    },
    {
      "cell_type": "code",
      "metadata": {
        "id": "NcZCbC9irYdc",
        "colab": {
          "base_uri": "https://localhost:8080/",
          "height": 350
        },
        "outputId": "20bd1fd2-b64c-4c9c-b0e6-83cbeb4693b6"
      },
      "source": [
        "male = marginals[marginals['gender'] == 1] \n",
        "fpr_male, tpr_male, _ = metrics.roc_curve(male['target'], male['score'])\n",
        "\n",
        "female = marginals[marginals['gender'] == 0]\n",
        "fpr_female, tpr_female, _ = metrics.roc_curve(female['target'], female['score'])\n",
        "\n",
        "plt.figure(1, figsize=(6, 5))\n",
        "plt.title('ROC curves by grouping gender')\n",
        "plt.xlabel('False positive rate')\n",
        "plt.ylabel('True positive rate')\n",
        "\n",
        "plt.plot(fpr_male, tpr_male, label='male', linestyle='-', color='b')\n",
        "plt.plot(fpr_female, tpr_female, label='female', linestyle='--', color='g')\n",
        "\n",
        "plt.legend()\n",
        "plt.show()"
      ],
      "execution_count": null,
      "outputs": [
        {
          "output_type": "display_data",
          "data": {
            "image/png": "[encoded data removed]",
            "text/plain": [
              "<Figure size 432x360 with 1 Axes>"
            ]
          },
          "metadata": {
            "tags": [],
            "needs_background": "light"
          }
        }
      ]
    },
    {
      "cell_type": "code",
      "metadata": {
        "id": "HHEVBNV9rZR8",
        "colab": {
          "base_uri": "https://localhost:8080/",
          "height": 350
        },
        "outputId": "dfd68b74-909e-4c28-ce59-ef61c30ed34c"
      },
      "source": [
        "rural = marginals[marginals['address'] == 1] \n",
        "fpr_rural, tpr_rural, _ = metrics.roc_curve(rural['target'], rural['score'])\n",
        "\n",
        "\n",
        "urban = marginals[marginals['address'] == 0]\n",
        "fpr_urban, tpr_urban, _ = metrics.roc_curve(urban['target'], urban['score'])\n",
        "\n",
        "\n",
        "plt.figure(1, figsize=(6, 5))\n",
        "plt.title('ROC curves by grouping address')\n",
        "plt.xlabel('False positive rate')\n",
        "plt.ylabel('True positive rate')\n",
        "\n",
        "plt.plot(fpr_rural, tpr_rural, label='rural', linestyle='-', color='b')\n",
        "plt.plot(fpr_urban, tpr_urban, label='urban', linestyle='--', color='g')\n",
        "\n",
        "plt.legend()\n",
        "plt.show()"
      ],
      "execution_count": null,
      "outputs": [
        {
          "output_type": "display_data",
          "data": {
            "image/png": "[encoded data removed]",
            "text/plain": [
              "<Figure size 432x360 with 1 Axes>"
            ]
          },
          "metadata": {
            "tags": [],
            "needs_background": "light"
          }
        }
      ]
    },
    {
      "cell_type": "code",
      "metadata": {
        "id": "5ZIGgPbHraaa",
        "colab": {
          "base_uri": "https://localhost:8080/",
          "height": 350
        },
        "outputId": "0d328ff5-314c-4ee8-e4ad-374bf2f81690"
      },
      "source": [
        "rural = marginals[marginals['address'] == 1]\n",
        "fpr_rural, tpr_rural, _ = metrics.roc_curve(rural['target'], rural['score'])\n",
        "\n",
        "ruralmale = rural[rural['gender'] == 1]\n",
        "fpr_ruralmale, tpr_ruralmale, _ = metrics.roc_curve(ruralmale['target'], ruralmale['score'])\n",
        "\n",
        "ruralfemale = rural[rural['gender'] == 0]\n",
        "fpr_ruralfemale, tpr_ruralfemale, _ = metrics.roc_curve(ruralfemale['target'], ruralfemale['score'])\n",
        "\n",
        "urban = marginals[marginals['address'] == 0]\n",
        "fpr_urban, tpr_urban, _ = metrics.roc_curve(urban['target'], urban['score'])\n",
        "\n",
        "urbanmale = urban[urban['gender'] == 1]\n",
        "fpr_urbanmale, tpr_urbanmale, _ = metrics.roc_curve(urbanmale['target'], urbanmale['score'])\n",
        "\n",
        "urbanfemale = urban[urban['gender'] == 0]\n",
        "fpr_urbanfemale, tpr_urbanfemale, _ = metrics.roc_curve(urbanfemale['target'], urbanfemale['score'])\n",
        "\n",
        "plt.figure(1, figsize=(6, 5))\n",
        "plt.title('ROC curves by address and gender')\n",
        "plt.xlabel('False positive rate')\n",
        "plt.ylabel('True positive rate')\n",
        "\n",
        "plt.plot(fpr_ruralmale, tpr_ruralmale, label='rural male', linestyle='-', color='b')\n",
        "plt.plot(fpr_urbanmale, tpr_urbanmale, label='urban male', linestyle='--', color='g')\n",
        "plt.plot(fpr_ruralfemale, tpr_ruralfemale, label='rural female', linestyle='-', color='r')\n",
        "plt.plot(fpr_urbanfemale, tpr_urbanfemale, label='urban female', linestyle='--', color='y')\n",
        "\n",
        "plt.legend()\n",
        "plt.show()"
      ],
      "execution_count": null,
      "outputs": [
        {
          "output_type": "display_data",
          "data": {
            "image/png": "[encoded data removed]",
            "text/plain": [
              "<Figure size 432x360 with 1 Axes>"
            ]
          },
          "metadata": {
            "tags": [],
            "needs_background": "light"
          }
        }
      ]
    }
  ]
}